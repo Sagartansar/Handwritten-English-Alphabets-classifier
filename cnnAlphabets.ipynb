{
  "nbformat": 4,
  "nbformat_minor": 0,
  "metadata": {
    "colab": {
      "name": "cnnAlphabets.ipynb",
      "provenance": [],
      "collapsed_sections": []
    },
    "kernelspec": {
      "name": "python3",
      "display_name": "Python 3"
    },
    "accelerator": "GPU"
  },
  "cells": [
    {
      "cell_type": "markdown",
      "metadata": {
        "id": "PUk72bP184hL"
      },
      "source": [
        "# English Alphabets Recognition using CNNs"
      ]
    },
    {
      "cell_type": "markdown",
      "metadata": {
        "id": "QK1TMaek9BDL"
      },
      "source": [
        "## Mounting The Drive"
      ]
    },
    {
      "cell_type": "code",
      "metadata": {
        "id": "iVLKlu4H3pXq",
        "outputId": "a92ce518-1cd2-4adc-f862-79119586fe1d",
        "colab": {
          "base_uri": "https://localhost:8080/",
          "height": 34
        }
      },
      "source": [
        "from google.colab import drive\n",
        "drive.mount(\"/content/drive\")"
      ],
      "execution_count": 1,
      "outputs": [
        {
          "output_type": "stream",
          "text": [
            "Mounted at /content/drive\n"
          ],
          "name": "stdout"
        }
      ]
    },
    {
      "cell_type": "code",
      "metadata": {
        "id": "8Z4MqGV74-PZ",
        "outputId": "581402bf-9313-46a1-9f39-58e3d1bfd899",
        "colab": {
          "base_uri": "https://localhost:8080/",
          "height": 34
        }
      },
      "source": [
        "!ls \"/content/drive/My Drive/Kaggle\" "
      ],
      "execution_count": 11,
      "outputs": [
        {
          "output_type": "stream",
          "text": [
            "'A_Z Handwritten Data'\t'A_Z Handwritten Data.csv'   kaggle.json\n"
          ],
          "name": "stdout"
        }
      ]
    },
    {
      "cell_type": "markdown",
      "metadata": {
        "id": "JzUp8yoc9FkA"
      },
      "source": [
        "## Redaing the Dataset"
      ]
    },
    {
      "cell_type": "code",
      "metadata": {
        "id": "FSSk0ko2r2wg"
      },
      "source": [
        "import pandas as pd"
      ],
      "execution_count": 12,
      "outputs": []
    },
    {
      "cell_type": "code",
      "metadata": {
        "id": "zg6LUtOctRGD"
      },
      "source": [
        "dataset=pd.read_csv('/content/drive/My Drive/Kaggle/A_Z Handwritten Data.csv')"
      ],
      "execution_count": 13,
      "outputs": []
    },
    {
      "cell_type": "markdown",
      "metadata": {
        "id": "0XpxS0Fs9KzB"
      },
      "source": [
        "## Dividing the dataset into dependent and independent variable"
      ]
    },
    {
      "cell_type": "code",
      "metadata": {
        "id": "o-5RZKKixP-P"
      },
      "source": [
        "X = dataset.iloc[:,1:785]\n",
        "Y = dataset.iloc[:,0]"
      ],
      "execution_count": 14,
      "outputs": []
    },
    {
      "cell_type": "code",
      "metadata": {
        "id": "n9cTb3IIzRTg"
      },
      "source": [
        "from keras.utils.np_utils import to_categorical\n",
        "X=X/255.0\n",
        "X = X.values.reshape(-1,28,28,1)\n",
        "Y=to_categorical(Y,num_classes=26)"
      ],
      "execution_count": 15,
      "outputs": []
    },
    {
      "cell_type": "code",
      "metadata": {
        "id": "hBcmbH8-yK4W"
      },
      "source": [
        "from sklearn.model_selection import train_test_split as tts\n",
        "xtrain,xtest,ytrain,ytest=tts(X,Y,test_size=0.2,random_state=42)"
      ],
      "execution_count": 16,
      "outputs": []
    },
    {
      "cell_type": "code",
      "metadata": {
        "id": "37COv4TYyiL3",
        "outputId": "788397b3-bddd-4c83-9ff8-28cfb71e492c",
        "colab": {
          "base_uri": "https://localhost:8080/",
          "height": 50
        }
      },
      "source": [
        "print(xtrain.shape,ytrain.shape)\n",
        "print(xtest.shape,ytest.shape)"
      ],
      "execution_count": 17,
      "outputs": [
        {
          "output_type": "stream",
          "text": [
            "(297960, 28, 28, 1) (297960, 26)\n",
            "(74490, 28, 28, 1) (74490, 26)\n"
          ],
          "name": "stdout"
        }
      ]
    },
    {
      "cell_type": "markdown",
      "metadata": {
        "id": "HHpxYDQd9ctZ"
      },
      "source": [
        "## Importing the libraries"
      ]
    },
    {
      "cell_type": "code",
      "metadata": {
        "id": "0hfpS5Phy1Ot"
      },
      "source": [
        "from keras.models import Sequential\n",
        "from keras.layers import Dense\n",
        "from keras.layers import Dropout\n",
        "from keras.layers import Flatten\n",
        "from keras.layers.convolutional import Conv2D\n",
        "from keras.layers import MaxPool2D"
      ],
      "execution_count": 18,
      "outputs": []
    },
    {
      "cell_type": "markdown",
      "metadata": {
        "id": "zaMf4Vqm9iL-"
      },
      "source": [
        "## Defining the model"
      ]
    },
    {
      "cell_type": "code",
      "metadata": {
        "id": "yuoMHy7g0Krz",
        "outputId": "a82c7f99-901f-4114-d19c-6b662b74b01e",
        "colab": {
          "base_uri": "https://localhost:8080/",
          "height": 571
        }
      },
      "source": [
        "model=Sequential()\n",
        "model.add(Conv2D(32,(5,5),activation='relu',padding='same',input_shape=(28,28,1)))\n",
        "model.add(Conv2D(32,(5,5),activation='relu',padding='same'))\n",
        "model.add(MaxPool2D(pool_size=(2,2)))\n",
        "model.add(Dropout(0.25))\n",
        "\n",
        "model.add(Conv2D(64,(3,3),padding = 'same',activation ='relu'))\n",
        "model.add(Conv2D(64,(3,3),padding = 'same',activation ='relu'))\n",
        "model.add(MaxPool2D(pool_size=(2,2), strides=(2,2)))\n",
        "model.add(Dropout(0.25))\n",
        "\n",
        "model.add(Flatten())\n",
        "model.add(Dense(256, activation = \"relu\"))\n",
        "model.add(Dropout(0.5))\n",
        "model.add(Dense(26, activation = \"softmax\"))\n",
        "\n",
        "print(model.summary())"
      ],
      "execution_count": 19,
      "outputs": [
        {
          "output_type": "stream",
          "text": [
            "Model: \"sequential\"\n",
            "_________________________________________________________________\n",
            "Layer (type)                 Output Shape              Param #   \n",
            "=================================================================\n",
            "conv2d (Conv2D)              (None, 28, 28, 32)        832       \n",
            "_________________________________________________________________\n",
            "conv2d_1 (Conv2D)            (None, 28, 28, 32)        25632     \n",
            "_________________________________________________________________\n",
            "max_pooling2d (MaxPooling2D) (None, 14, 14, 32)        0         \n",
            "_________________________________________________________________\n",
            "dropout (Dropout)            (None, 14, 14, 32)        0         \n",
            "_________________________________________________________________\n",
            "conv2d_2 (Conv2D)            (None, 14, 14, 64)        18496     \n",
            "_________________________________________________________________\n",
            "conv2d_3 (Conv2D)            (None, 14, 14, 64)        36928     \n",
            "_________________________________________________________________\n",
            "max_pooling2d_1 (MaxPooling2 (None, 7, 7, 64)          0         \n",
            "_________________________________________________________________\n",
            "dropout_1 (Dropout)          (None, 7, 7, 64)          0         \n",
            "_________________________________________________________________\n",
            "flatten (Flatten)            (None, 3136)              0         \n",
            "_________________________________________________________________\n",
            "dense (Dense)                (None, 256)               803072    \n",
            "_________________________________________________________________\n",
            "dropout_2 (Dropout)          (None, 256)               0         \n",
            "_________________________________________________________________\n",
            "dense_1 (Dense)              (None, 26)                6682      \n",
            "=================================================================\n",
            "Total params: 891,642\n",
            "Trainable params: 891,642\n",
            "Non-trainable params: 0\n",
            "_________________________________________________________________\n",
            "None\n"
          ],
          "name": "stdout"
        }
      ]
    },
    {
      "cell_type": "markdown",
      "metadata": {
        "id": "zfCYfvIg9mLY"
      },
      "source": [
        "## Compiling the model"
      ]
    },
    {
      "cell_type": "code",
      "metadata": {
        "id": "aEfg1Eck1eLR"
      },
      "source": [
        "model.compile(optimizer='adam',loss='categorical_crossentropy',metrics=['accuracy'])"
      ],
      "execution_count": 20,
      "outputs": []
    },
    {
      "cell_type": "code",
      "metadata": {
        "id": "FeipOwSg1sX8"
      },
      "source": [
        "from keras.preprocessing.image import ImageDataGenerator\n",
        "datagen = ImageDataGenerator(\n",
        "        featurewise_center=False,  # set input mean to 0 over the dataset\n",
        "        samplewise_center=False,  # set each sample mean to 0\n",
        "        featurewise_std_normalization=False,  # divide inputs by std of the dataset\n",
        "        samplewise_std_normalization=False,  # divide each input by its std\n",
        "        zca_whitening=False,  # apply ZCA whitening\n",
        "        rotation_range=10,  # randomly rotate images in the range (degrees, 0 to 180)\n",
        "        zoom_range = 0.1, # Randomly zoom image \n",
        "        width_shift_range=0.1,  # randomly shift images horizontally (fraction of total width)\n",
        "        height_shift_range=0.1,  # randomly shift images vertically (fraction of total height)\n",
        "        horizontal_flip=False,  # randomly flip images\n",
        "        vertical_flip=False)  # randomly flip images\n",
        "\n",
        "datagen.fit(xtrain)"
      ],
      "execution_count": 21,
      "outputs": []
    },
    {
      "cell_type": "markdown",
      "metadata": {
        "id": "Uq1w0yF59qH7"
      },
      "source": [
        "## Running the model on train and test(validation) data"
      ]
    },
    {
      "cell_type": "code",
      "metadata": {
        "id": "ILIQXd0V1_ya",
        "outputId": "95b472b4-8c7e-4439-be28-7cf5956d6edd",
        "colab": {
          "base_uri": "https://localhost:8080/",
          "height": 440
        }
      },
      "source": [
        "model.fit_generator(datagen.flow(xtrain,ytrain, batch_size=256),epochs = 10, validation_data = (xtest,ytest),verbose = 2)"
      ],
      "execution_count": 22,
      "outputs": [
        {
          "output_type": "stream",
          "text": [
            "WARNING:tensorflow:From <ipython-input-22-7a06862349b3>:1: Model.fit_generator (from tensorflow.python.keras.engine.training) is deprecated and will be removed in a future version.\n",
            "Instructions for updating:\n",
            "Please use Model.fit, which supports generators.\n",
            "Epoch 1/10\n",
            "1164/1164 - 73s - loss: 0.3941 - accuracy: 0.8866 - val_loss: 0.0567 - val_accuracy: 0.9848\n",
            "Epoch 2/10\n",
            "1164/1164 - 73s - loss: 0.1250 - accuracy: 0.9655 - val_loss: 0.0474 - val_accuracy: 0.9875\n",
            "Epoch 3/10\n",
            "1164/1164 - 73s - loss: 0.0996 - accuracy: 0.9725 - val_loss: 0.0415 - val_accuracy: 0.9894\n",
            "Epoch 4/10\n",
            "1164/1164 - 73s - loss: 0.0872 - accuracy: 0.9763 - val_loss: 0.0399 - val_accuracy: 0.9897\n",
            "Epoch 5/10\n",
            "1164/1164 - 73s - loss: 0.0811 - accuracy: 0.9780 - val_loss: 0.0420 - val_accuracy: 0.9888\n",
            "Epoch 6/10\n",
            "1164/1164 - 73s - loss: 0.0742 - accuracy: 0.9795 - val_loss: 0.0365 - val_accuracy: 0.9905\n",
            "Epoch 7/10\n",
            "1164/1164 - 74s - loss: 0.0701 - accuracy: 0.9807 - val_loss: 0.0352 - val_accuracy: 0.9910\n",
            "Epoch 8/10\n",
            "1164/1164 - 73s - loss: 0.0675 - accuracy: 0.9813 - val_loss: 0.0343 - val_accuracy: 0.9917\n",
            "Epoch 9/10\n",
            "1164/1164 - 73s - loss: 0.0640 - accuracy: 0.9823 - val_loss: 0.0327 - val_accuracy: 0.9920\n",
            "Epoch 10/10\n",
            "1164/1164 - 73s - loss: 0.0612 - accuracy: 0.9831 - val_loss: 0.0351 - val_accuracy: 0.9912\n"
          ],
          "name": "stdout"
        },
        {
          "output_type": "execute_result",
          "data": {
            "text/plain": [
              "<tensorflow.python.keras.callbacks.History at 0x7fef00047240>"
            ]
          },
          "metadata": {
            "tags": []
          },
          "execution_count": 22
        }
      ]
    }
  ]
}